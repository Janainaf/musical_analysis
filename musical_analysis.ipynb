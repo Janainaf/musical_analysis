{
 "cells": [
  {
   "cell_type": "code",
   "execution_count": 1,
   "id": "6d171f79",
   "metadata": {},
   "outputs": [],
   "source": [
    "import pandas as pd\n",
    "import matplotlib.pyplot as plt\n",
    "import seaborn as sns\n",
    "import pandas as pd\n",
    "import glob\n",
    "import os\n",
    "sns.set_theme()\n",
    "music2019 = pd.read_csv('2019.csv', index_col=0)"
   ]
  },
  {
   "cell_type": "code",
   "execution_count": 8,
   "id": "138bea13",
   "metadata": {
    "scrolled": true
   },
   "outputs": [
    {
     "data": {
      "text/html": [
       "<div>\n",
       "<style scoped>\n",
       "    .dataframe tbody tr th:only-of-type {\n",
       "        vertical-align: middle;\n",
       "    }\n",
       "\n",
       "    .dataframe tbody tr th {\n",
       "        vertical-align: top;\n",
       "    }\n",
       "\n",
       "    .dataframe thead th {\n",
       "        text-align: right;\n",
       "    }\n",
       "</style>\n",
       "<table border=\"1\" class=\"dataframe\">\n",
       "  <thead>\n",
       "    <tr style=\"text-align: right;\">\n",
       "      <th></th>\n",
       "      <th>title</th>\n",
       "      <th>artist</th>\n",
       "      <th>top genre</th>\n",
       "      <th>year</th>\n",
       "      <th>bpm</th>\n",
       "      <th>nrgy</th>\n",
       "      <th>dnce</th>\n",
       "      <th>dB</th>\n",
       "      <th>live</th>\n",
       "      <th>val</th>\n",
       "      <th>dur</th>\n",
       "      <th>acous</th>\n",
       "      <th>spch</th>\n",
       "      <th>pop</th>\n",
       "    </tr>\n",
       "  </thead>\n",
       "  <tbody>\n",
       "    <tr>\n",
       "      <th>573</th>\n",
       "      <td>Memories</td>\n",
       "      <td>Maroon 5</td>\n",
       "      <td>pop</td>\n",
       "      <td>2019</td>\n",
       "      <td>91</td>\n",
       "      <td>32</td>\n",
       "      <td>76</td>\n",
       "      <td>-7</td>\n",
       "      <td>8</td>\n",
       "      <td>57</td>\n",
       "      <td>189</td>\n",
       "      <td>84</td>\n",
       "      <td>5</td>\n",
       "      <td>99</td>\n",
       "    </tr>\n",
       "    <tr>\n",
       "      <th>574</th>\n",
       "      <td>Lose You To Love Me</td>\n",
       "      <td>Selena Gomez</td>\n",
       "      <td>dance pop</td>\n",
       "      <td>2019</td>\n",
       "      <td>102</td>\n",
       "      <td>34</td>\n",
       "      <td>51</td>\n",
       "      <td>-9</td>\n",
       "      <td>21</td>\n",
       "      <td>9</td>\n",
       "      <td>206</td>\n",
       "      <td>58</td>\n",
       "      <td>4</td>\n",
       "      <td>97</td>\n",
       "    </tr>\n",
       "    <tr>\n",
       "      <th>575</th>\n",
       "      <td>Someone You Loved</td>\n",
       "      <td>Lewis Capaldi</td>\n",
       "      <td>pop</td>\n",
       "      <td>2019</td>\n",
       "      <td>110</td>\n",
       "      <td>41</td>\n",
       "      <td>50</td>\n",
       "      <td>-6</td>\n",
       "      <td>11</td>\n",
       "      <td>45</td>\n",
       "      <td>182</td>\n",
       "      <td>75</td>\n",
       "      <td>3</td>\n",
       "      <td>96</td>\n",
       "    </tr>\n",
       "    <tr>\n",
       "      <th>576</th>\n",
       "      <td>Señorita</td>\n",
       "      <td>Shawn Mendes</td>\n",
       "      <td>canadian pop</td>\n",
       "      <td>2019</td>\n",
       "      <td>117</td>\n",
       "      <td>54</td>\n",
       "      <td>76</td>\n",
       "      <td>-6</td>\n",
       "      <td>9</td>\n",
       "      <td>75</td>\n",
       "      <td>191</td>\n",
       "      <td>4</td>\n",
       "      <td>3</td>\n",
       "      <td>95</td>\n",
       "    </tr>\n",
       "    <tr>\n",
       "      <th>577</th>\n",
       "      <td>How Do You Sleep?</td>\n",
       "      <td>Sam Smith</td>\n",
       "      <td>pop</td>\n",
       "      <td>2019</td>\n",
       "      <td>111</td>\n",
       "      <td>68</td>\n",
       "      <td>48</td>\n",
       "      <td>-5</td>\n",
       "      <td>8</td>\n",
       "      <td>35</td>\n",
       "      <td>202</td>\n",
       "      <td>15</td>\n",
       "      <td>9</td>\n",
       "      <td>93</td>\n",
       "    </tr>\n",
       "  </tbody>\n",
       "</table>\n",
       "</div>"
      ],
      "text/plain": [
       "                   title         artist     top genre  year  bpm  nrgy  dnce  \\\n",
       "573             Memories       Maroon 5           pop  2019   91    32    76   \n",
       "574  Lose You To Love Me   Selena Gomez     dance pop  2019  102    34    51   \n",
       "575    Someone You Loved  Lewis Capaldi           pop  2019  110    41    50   \n",
       "576             Señorita   Shawn Mendes  canadian pop  2019  117    54    76   \n",
       "577    How Do You Sleep?      Sam Smith           pop  2019  111    68    48   \n",
       "\n",
       "     dB  live  val  dur  acous  spch  pop  \n",
       "573  -7     8   57  189     84     5   99  \n",
       "574  -9    21    9  206     58     4   97  \n",
       "575  -6    11   45  182     75     3   96  \n",
       "576  -6     9   75  191      4     3   95  \n",
       "577  -5     8   35  202     15     9   93  "
      ]
     },
     "execution_count": 8,
     "metadata": {},
     "output_type": "execute_result"
    }
   ],
   "source": [
    "music2019.head()"
   ]
  },
  {
   "cell_type": "markdown",
   "id": "efe65313",
   "metadata": {},
   "source": [
    "### 1) Combine all of the CSV files into a single dataset using Pandas. It should be held in a variable called all_top_songs"
   ]
  },
  {
   "cell_type": "code",
   "execution_count": 3,
   "id": "2ca894d0",
   "metadata": {},
   "outputs": [],
   "source": [
    "path = r'C:/home/janaina/musical_analysis/'                    \n",
    "all_files = glob.glob(os.path.join(path, \"music*.csv\"))\n",
    "all_top_songs = pd.concat(map(pd.read_csv, glob.glob(os.path.join('', \"*.csv\"))))\n",
    "all_top_songs.to_csv('all_top_songs.csv', encoding='utf-8-sig')"
   ]
  },
  {
   "cell_type": "markdown",
   "id": "c384b7c4",
   "metadata": {},
   "source": [
    "### 2) Clean the dataset to make sure the following columns are either integer or floats and not objects:\n",
    "####      id    year     bpm     nrgy     dnce     db     live     val     dur     acous     spch     pop "
   ]
  },
  {
   "cell_type": "code",
   "execution_count": 9,
   "id": "f2159339",
   "metadata": {},
   "outputs": [
    {
     "data": {
      "text/plain": [
       "Id            int64\n",
       "title        object\n",
       "artist       object\n",
       "top genre    object\n",
       "year          int64\n",
       "bpm           int64\n",
       "nrgy          int64\n",
       "dnce          int64\n",
       "dB            int64\n",
       "live          int64\n",
       "val           int64\n",
       "dur           int64\n",
       "acous         int64\n",
       "spch          int64\n",
       "pop           int64\n",
       "dtype: object"
      ]
     },
     "execution_count": 9,
     "metadata": {},
     "output_type": "execute_result"
    }
   ],
   "source": [
    "all_top_songs.rename(columns = {'Unnamed: 0':'Id'}, inplace = True)\n",
    "all_top_songs.dtypes"
   ]
  },
  {
   "cell_type": "markdown",
   "id": "fc3bb984",
   "metadata": {},
   "source": [
    "Note: Use Pandas, Matplotlib, and/or Seaborn to answer the questions below."
   ]
  },
  {
   "cell_type": "markdown",
   "id": "8230422b",
   "metadata": {},
   "source": [
    "###  3) What is the most popular song in the dataset?\n"
   ]
  },
  {
   "cell_type": "code",
   "execution_count": 14,
   "id": "2d985198",
   "metadata": {},
   "outputs": [
    {
     "name": "stdout",
     "output_type": "stream",
     "text": [
      "\n",
      "The most popular song in the dataset Memories\n"
     ]
    }
   ],
   "source": [
    "#mostpopulars = all_top_songs.sort_values(by='pop', ascending=False)\n",
    "#print (mostpopulars.head(5))\n",
    "\n",
    "mostpop =  all_top_songs[all_top_songs['pop']==all_top_songs['pop'].max()]\n",
    "print()\n",
    "print(\"The most popular song in the dataset\", mostpop.title[0])\n",
    "print()"
   ]
  },
  {
   "cell_type": "markdown",
   "id": "4963201d",
   "metadata": {},
   "source": [
    "### 4) What artist has the most songs in the dataset?"
   ]
  },
  {
   "cell_type": "code",
   "execution_count": 69,
   "id": "80a79ec6",
   "metadata": {},
   "outputs": [
    {
     "name": "stdout",
     "output_type": "stream",
     "text": [
      "The most popular artist in the dataset Katy Perry    17\n",
      "Name: artist, dtype: int64\n"
     ]
    }
   ],
   "source": [
    "artist = all_top_songs.artist.value_counts().head(1)\n",
    "print(\"The most popular artist in the dataset\", artist)"
   ]
  },
  {
   "cell_type": "markdown",
   "id": "a63d2698",
   "metadata": {},
   "source": [
    "### 5)  What is the most popular genre of music in the dataset?\n"
   ]
  },
  {
   "cell_type": "code",
   "execution_count": 72,
   "id": "c41f65dd",
   "metadata": {},
   "outputs": [
    {
     "name": "stdout",
     "output_type": "stream",
     "text": [
      "The most popular genre of music in the dataset is dance pop    327\n",
      "Name: top genre, dtype: int64\n"
     ]
    }
   ],
   "source": [
    "genre = all_top_songs[\"top genre\"].value_counts().head(1)\n",
    "print(\"The most popular genre of music in the dataset is\", genre)"
   ]
  },
  {
   "cell_type": "markdown",
   "id": "9133f183",
   "metadata": {},
   "source": [
    "### 6) Are there any songs in the dataset more than once?"
   ]
  },
  {
   "cell_type": "code",
   "execution_count": 109,
   "id": "b37dc4e5",
   "metadata": {},
   "outputs": [
    {
     "name": "stdout",
     "output_type": "stream",
     "text": [
      "Yes, there are 19\n",
      "and these are the songs Say Something                                      2\n",
      "All I Ask                                          2\n",
      "Castle Walls (feat. Christina Aguilera)            2\n",
      "Stitches                                           2\n",
      "Hello                                              2\n",
      "Sugar                                              2\n",
      "Love Yourself                                      2\n",
      "The Hills                                          2\n",
      "We Are Never Ever Getting Back Together            2\n",
      "I Like It                                          2\n",
      "Kissing Strangers                                  2\n",
      "Runnin' (Lose It All)                              2\n",
      "Company                                            2\n",
      "Written in the Stars (feat. Eric Turner)           2\n",
      "Just the Way You Are                               2\n",
      "Here                                               2\n",
      "First Time                                         2\n",
      "A Little Party Never Killed Nobody (All We Got)    2\n",
      "Marry You                                          2\n",
      "Name: title, dtype: int64\n"
     ]
    }
   ],
   "source": [
    "morethanonce = (all_top_songs.title.value_counts() >=2 )\n",
    "quantity = morethanonce.value_counts()[True]\n",
    "print(\"Yes, there are\", quantity)\n",
    "print(\"and these are the songs\",all_top_songs.title.value_counts().head(19) )"
   ]
  },
  {
   "cell_type": "markdown",
   "id": "16b554ba",
   "metadata": {},
   "source": [
    "### 7) Is there a relationship between popularity and danceability?\n"
   ]
  },
  {
   "cell_type": "code",
   "execution_count": 137,
   "id": "a710fd24",
   "metadata": {},
   "outputs": [
    {
     "data": {
      "text/plain": [
       "<AxesSubplot:xlabel='pop', ylabel='dnce'>"
      ]
     },
     "execution_count": 137,
     "metadata": {},
     "output_type": "execute_result"
    },
    {
     "data": {
      "image/png": "[encoded data removed]",
      "text/plain": [
       "<Figure size 432x288 with 1 Axes>"
      ]
     },
     "metadata": {},
     "output_type": "display_data"
    }
   ],
   "source": [
    "sns.scatterplot(data=all_top_songs, x=\"pop\", y=\"dnce\")\n"
   ]
  },
  {
   "cell_type": "markdown",
   "id": "6479dfc0",
   "metadata": {},
   "source": [
    "### 8) Does having a higher bpm lead to having a higher energy score?\n"
   ]
  },
  {
   "cell_type": "code",
   "execution_count": 138,
   "id": "c6ba80ab",
   "metadata": {},
   "outputs": [
    {
     "data": {
      "text/plain": [
       "<AxesSubplot:xlabel='bpm', ylabel='nrgy'>"
      ]
     },
     "execution_count": 138,
     "metadata": {},
     "output_type": "execute_result"
    },
    {
     "data": {
      "image/png": "[encoded data removed]",
      "text/plain": [
       "<Figure size 432x288 with 1 Axes>"
      ]
     },
     "metadata": {},
     "output_type": "display_data"
    }
   ],
   "source": [
    "sns.scatterplot(data=all_top_songs, x=\"bpm\", y=\"nrgy\")\n"
   ]
  },
  {
   "cell_type": "markdown",
   "id": "a269e6bf",
   "metadata": {},
   "source": [
    "### 9) Which genre has the highest energy score?\n"
   ]
  },
  {
   "cell_type": "code",
   "execution_count": 149,
   "id": "a6015d67",
   "metadata": {},
   "outputs": [
    {
     "name": "stdout",
     "output_type": "stream",
     "text": [
      "     Id     title          artist top genre  year  bpm  nrgy  dnce  dB  live  \\\n",
      "50   51     Hello  Martin Solveig  big room  2010  128    98    67  -3    10   \n",
      "59  199  Pom Poms  Jonas Brothers  boy band  2013  148    98    68  -2    28   \n",
      "\n",
      "    val  dur  acous  spch  pop  \n",
      "50   45  191      1     3    0  \n",
      "59   90  198      7     9   52  \n"
     ]
    }
   ],
   "source": [
    "energy =  all_top_songs[all_top_songs['nrgy']==all_top_songs['nrgy'].max()]\n",
    "print(energy)"
   ]
  }
 ],
 "metadata": {
  "kernelspec": {
   "display_name": "Python 3 (ipykernel)",
   "language": "python",
   "name": "python3"
  },
  "language_info": {
   "codemirror_mode": {
    "name": "ipython",
    "version": 3
   },
   "file_extension": ".py",
   "mimetype": "text/x-python",
   "name": "python",
   "nbconvert_exporter": "python",
   "pygments_lexer": "ipython3",
   "version": "3.9.7"
  }
 },
 "nbformat": 4,
 "nbformat_minor": 5
}
